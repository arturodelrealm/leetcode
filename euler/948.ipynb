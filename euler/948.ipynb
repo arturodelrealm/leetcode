{
 "cells": [
  {
   "cell_type": "markdown",
   "id": "fc45f901-473c-46c9-8308-c8f42a24a576",
   "metadata": {},
   "source": [
    "Problem https://projecteuler.net/problem=948"
   ]
  },
  {
   "cell_type": "markdown",
   "id": "9d046bfb-3e11-42e2-bc64-673967a60849",
   "metadata": {},
   "source": [
    "# Main idea\n",
    "\n",
    "L will win the game for a word $\\omega$ if the word $\\omega$ has a suffix $\\omega'$ where the number of L is $\\ge$ of the number of R in $\\omega'$ (except for the case when the word is $LR$, because at first we need to eliminate one letter).\n",
    "\n",
    "The same occurs with R winnig the game, but with prefix instead of suffix.\n",
    "\n",
    "So with that in mind, we can define a word with 4 attributes: \n",
    "* **Left_wins**\n",
    "* **Right_wins**\n",
    "* **number_L_from_R**: max number of the difference of the L and R from a suffix of $\\omega$\n",
    "* **number_R_from_L**: difference of R and L of the full word $\\omega$\n",
    "\n",
    "Every word with the same state $S$ will generate a word of state $S1$ if we add another letter at the right.\n",
    "\n",
    "Note that if we have a word $\\omega_R$ where R wins if start, R will win with any word that has $\\omega_R$ as prefix, because R can remove all the right letters of $\\omega_R$ in the first turn.\n",
    "\n",
    "So, we have two cases wehn adding a letter to the right:\n",
    "* If we add an L to the right:\n",
    "  * the **number_L_from_R** will increase if its a non negative number, else will be 1 (because we will have a word with a suffix L).\n",
    "  * the **number_R_from_L** will decrease by 1\n",
    "  * **Left_wins** will be True, because **number_L_from_R** will be at least 1\n",
    "  * **Right_wins** if right wins in the previous state or if the **number_R_from_L** is -1 (because R can remove the last L, think of LR -> LRL).\n",
    "* If we add an R to the right:\n",
    "  * the **number_L_from_R** will decrease by 1\n",
    "  * the **number_R_from_L** will increase by 1\n",
    "  * **Left_wins** will be True if **number_L_from_R** $\\ge 0$ except for the case when the size of the word is 2\n",
    "  * **Right_wins** if right wins in the previous state or if the **number_R_from_L** is greater than 0\n",
    "\n",
    "The first state will be of words of len 1 (L and R).\n",
    "\n",
    "We can generate the states of the words of size N+1 states adding an L and an R to all the states of the words of size N.\n"
   ]
  },
  {
   "cell_type": "code",
   "execution_count": 1,
   "id": "892e5c35-2176-40ec-9641-76ae1055d0f6",
   "metadata": {},
   "outputs": [],
   "source": [
    "from collections import Counter"
   ]
  },
  {
   "cell_type": "code",
   "execution_count": 2,
   "id": "fa58a311-087a-4b27-aea1-9f87e6be0430",
   "metadata": {},
   "outputs": [],
   "source": [
    "def update_states(states, new_letter: str, l_word: int):\n",
    "    win_L = states[0]\n",
    "    win_R = states[1]\n",
    "    number_L_from_R = states[2]\n",
    "    number_R_from_L = states[3]\n",
    "\n",
    "    if new_letter == 'L':\n",
    "        if number_L_from_R >= 0:\n",
    "            number_L_from_R += 1\n",
    "        else:\n",
    "            number_L_from_R = 1\n",
    "        number_R_from_L -= 1\n",
    "        win_L = True\n",
    "        win_R = win_R or number_R_from_L == -1\n",
    "    else:\n",
    "        number_R_from_L += 1\n",
    "        number_L_from_R -= 1\n",
    "        win_R = win_R or number_R_from_L > 0\n",
    "        win_L = number_L_from_R >= 0 if l_word > 2 else number_L_from_R > 0\n",
    "    new_states = (win_L, win_R, number_L_from_R, number_R_from_L)\n",
    "    return new_states"
   ]
  },
  {
   "cell_type": "code",
   "execution_count": 3,
   "id": "4c37da8d-5e6a-40ac-bc8d-d1057cecbf85",
   "metadata": {},
   "outputs": [
    {
     "name": "stdout",
     "output_type": "stream",
     "text": [
      "CPU times: total: 46.9 ms\n",
      "Wall time: 42.1 ms\n"
     ]
    },
    {
     "data": {
      "text/plain": [
       "1033654680825334184"
      ]
     },
     "execution_count": 3,
     "metadata": {},
     "output_type": "execute_result"
    }
   ],
   "source": [
    "words_states = {\n",
    "    (True, False, 1, -1): 1,  # L\n",
    "    (False, True, -1, 1): 1,  # R\n",
    "}\n",
    "for l in range(2, 61):\n",
    "    new_word_states = Counter()\n",
    "    for states, count in words_states.items():\n",
    "        new_word_states[update_states(states, 'L', l)] += count\n",
    "        new_word_states[update_states(states, 'R', l)] += count\n",
    "    words_states = new_word_states.copy()\n",
    "\n",
    "sum(count for states, count in words_states.items() if states[0] and states[1])"
   ]
  },
  {
   "cell_type": "code",
   "execution_count": null,
   "id": "84041c81-99d0-4876-9b88-ff62dc3c41a8",
   "metadata": {},
   "outputs": [],
   "source": []
  }
 ],
 "metadata": {
  "kernelspec": {
   "display_name": "Python 3 (ipykernel)",
   "language": "python",
   "name": "python3"
  },
  "language_info": {
   "codemirror_mode": {
    "name": "ipython",
    "version": 3
   },
   "file_extension": ".py",
   "mimetype": "text/x-python",
   "name": "python",
   "nbconvert_exporter": "python",
   "pygments_lexer": "ipython3",
   "version": "3.11.3"
  }
 },
 "nbformat": 4,
 "nbformat_minor": 5
}
