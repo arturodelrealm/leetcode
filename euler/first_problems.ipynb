{
 "cells": [
  {
   "cell_type": "code",
   "execution_count": 7,
   "id": "31be3493-bbd4-478c-b12c-2145d9d27d35",
   "metadata": {},
   "outputs": [],
   "source": [
    "def sum_of_mults_up_to(n: int, mults) -> int:\n",
    "    return sum(i for i in range(1, n) if any((i % mul) == 0 for mul in mults))\n",
    "        "
   ]
  },
  {
   "cell_type": "code",
   "execution_count": 10,
   "id": "932d0480-5359-4fe5-ada2-fc448b1e8991",
   "metadata": {},
   "outputs": [
    {
     "data": {
      "text/plain": [
       "233168"
      ]
     },
     "execution_count": 10,
     "metadata": {},
     "output_type": "execute_result"
    }
   ],
   "source": [
    "sum_of_mults_up_to(1000, (3, 5))"
   ]
  },
  {
   "cell_type": "code",
   "execution_count": 13,
   "id": "79c5990e-3a08-416c-b22a-b5022ca03ba1",
   "metadata": {},
   "outputs": [],
   "source": [
    "def even_fib_numbers(max_num: int) -> int:\n",
    "    last_2 = [1, 2]\n",
    "    current_sum = 2\n",
    "    while last_2[1] <= max_num:\n",
    "        new_value = sum(last_2)\n",
    "        if new_value % 2 == 0:\n",
    "            current_sum += new_value\n",
    "        last_2[0] = last_2[1]\n",
    "        last_2[1] = new_value\n",
    "    return current_sum"
   ]
  },
  {
   "cell_type": "code",
   "execution_count": 14,
   "id": "8086299d-6323-4ca1-91c2-1c8d509b669b",
   "metadata": {},
   "outputs": [
    {
     "data": {
      "text/plain": [
       "4613732"
      ]
     },
     "execution_count": 14,
     "metadata": {},
     "output_type": "execute_result"
    }
   ],
   "source": [
    "even_fib_numbers(4000000)"
   ]
  },
  {
   "cell_type": "code",
   "execution_count": 15,
   "id": "7d678807-2d9c-43a9-98e4-2e7542a9ad78",
   "metadata": {},
   "outputs": [],
   "source": [
    "def get_primes_up_to(n: int):\n",
    "    seen = set()\n",
    "    primes = []\n",
    "    for e in range(2, n + 1):\n",
    "        if e not in seen:\n",
    "            primes.append(e)\n",
    "            seen.update(i * e for i in range(1, n // e + 1))\n",
    "    return primes"
   ]
  },
  {
   "cell_type": "code",
   "execution_count": 38,
   "id": "9bb0e3be-5874-438a-ae24-120dce568375",
   "metadata": {},
   "outputs": [],
   "source": [
    "def get_first_n_primes(n: int, max_value: int = None):\n",
    "    primes = [2]\n",
    "    max_value = max_value or float('inf')\n",
    "    i = 3\n",
    "    while len(primes) < n and i <= max_value:\n",
    "        if not any(i % prime == 0 for prime in primes):\n",
    "            primes.append(i)\n",
    "        i += 2\n",
    "    return primes"
   ]
  },
  {
   "cell_type": "code",
   "execution_count": 29,
   "id": "3426b906-bb43-4bb7-a963-db649549a7d0",
   "metadata": {},
   "outputs": [],
   "source": [
    "def largest_prime_factor(n: int) -> int:\n",
    "    primes = get_primes_up_to(int(n ** 0.5))\n",
    "    for prime in primes[::-1]:\n",
    "        if (n % prime) == 0:\n",
    "            return prime\n",
    "    return n"
   ]
  },
  {
   "cell_type": "code",
   "execution_count": 30,
   "id": "64fe5916-4a04-43ff-a6a4-58b3614ff4be",
   "metadata": {},
   "outputs": [
    {
     "data": {
      "text/plain": [
       "6857"
      ]
     },
     "execution_count": 30,
     "metadata": {},
     "output_type": "execute_result"
    }
   ],
   "source": [
    "largest_prime_factor(600851475143)"
   ]
  },
  {
   "cell_type": "code",
   "execution_count": 34,
   "id": "bcce9d87-5ce0-4a3e-b74c-6225f1efbb5f",
   "metadata": {},
   "outputs": [],
   "source": [
    "def largest_palindrom_product(n_digits: int) -> int:\n",
    "    largest = 0\n",
    "    for i in range(10 ** (n_digits - 1), 10 ** n_digits):\n",
    "        for j in range(i, 10 ** n_digits):\n",
    "            product = str(i * j)\n",
    "            if product == product[::-1]:\n",
    "                largest = max(i * j, largest)\n",
    "    return largest"
   ]
  },
  {
   "cell_type": "code",
   "execution_count": 36,
   "id": "19794c76-cb7a-47d2-9112-d2b7459e374f",
   "metadata": {},
   "outputs": [
    {
     "data": {
      "text/plain": [
       "906609"
      ]
     },
     "execution_count": 36,
     "metadata": {},
     "output_type": "execute_result"
    }
   ],
   "source": [
    "largest_palindrom_product(3)"
   ]
  },
  {
   "cell_type": "code",
   "execution_count": 40,
   "id": "d9afabbe-7b19-4286-9e8b-9f5be3e52800",
   "metadata": {},
   "outputs": [
    {
     "data": {
      "text/plain": [
       "104743"
      ]
     },
     "execution_count": 40,
     "metadata": {},
     "output_type": "execute_result"
    }
   ],
   "source": [
    "get_first_n_primes(10001)[-1]"
   ]
  },
  {
   "cell_type": "code",
   "execution_count": 43,
   "id": "a9f32c4f-fe25-4fe8-af23-c3c893b7fe85",
   "metadata": {},
   "outputs": [],
   "source": [
    "primes_2 = get_primes_up_to(1000083)"
   ]
  },
  {
   "cell_type": "code",
   "execution_count": 44,
   "id": "cb53532c-ee00-438a-a434-856cc1a6e8ef",
   "metadata": {},
   "outputs": [
    {
     "data": {
      "text/plain": [
       "78503"
      ]
     },
     "execution_count": 44,
     "metadata": {},
     "output_type": "execute_result"
    }
   ],
   "source": [
    "len(primes_2)"
   ]
  },
  {
   "cell_type": "code",
   "execution_count": null,
   "id": "e4901e33-bf08-4b28-a93a-112cc24815c9",
   "metadata": {},
   "outputs": [],
   "source": []
  }
 ],
 "metadata": {
  "kernelspec": {
   "display_name": "Python 3 (ipykernel)",
   "language": "python",
   "name": "python3"
  },
  "language_info": {
   "codemirror_mode": {
    "name": "ipython",
    "version": 3
   },
   "file_extension": ".py",
   "mimetype": "text/x-python",
   "name": "python",
   "nbconvert_exporter": "python",
   "pygments_lexer": "ipython3",
   "version": "3.11.3"
  }
 },
 "nbformat": 4,
 "nbformat_minor": 5
}
