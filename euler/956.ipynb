{
 "cells": [
  {
   "cell_type": "markdown",
   "id": "9d7cb392-e472-461b-ada0-16a42979d620",
   "metadata": {},
   "source": [
    "Problem https://projecteuler.net/problem=956"
   ]
  },
  {
   "cell_type": "markdown",
   "id": "c4343199-2d2a-4464-a392-d59f34896df2",
   "metadata": {},
   "source": [
    "# Main idea\n",
    "\n",
    "The prime factorization of $N\\bigstar$ can be easily calculated. First of all, we can say that:\n",
    "\n",
    "$N\\bigstar = \\prod_{i=2}^{N}i^{\\sum_{j=1}^{N + 1 - i}j}$\n",
    "\n",
    "$N\\bigstar = \\prod_{i=2}^{N}i^{\\frac{(N + 1 - i)(N + 2 - i)}{2}}$\n",
    "\n",
    "With this in mind, the prime factorization will be calculated obtaining the prime factorization of the first N numbers, and constructing the factorization based on the exponent of the i and the prime facotrization of i.\n",
    "\n",
    "This is done on the `prime_decomp_for_sdfact` function, which return the exponents of each prime that construct $N\\bigstar$.\n",
    "\n",
    "\n",
    "Having this, we can have all the divisors selecting some exponents for each prime (the exponent must be leq than the prime exponent on the factorization) $D$ of $N\\bigstar$, and also, the $\\Omega(D)$.\n",
    "In this case we only care of the divisors which its $\\Omega$ is divisible by $N$.\n",
    "\n",
    "So lets imagine that we must find all the divisors $D$ that have only one prime factor $P$ (with any multiplicity) that satisfy the need of $\\Omega(D)\\mod N \\equiv 0$. \n",
    "\n",
    "Lets say that $P$ is present $P_i$ times in the prime factorization of $N\\bigstar$\n",
    "\n",
    "It is easy to note that all the divisors formed only by $P$ as prime factor are of the form $P^{\\alpha N}$ with $0 \\leq \\alpha \\leq P_i / N$.\n",
    "\n",
    "So the sum of all this divisors is $S_P = 1 + P^N  + P^{2N}... + P^{(P_i // N) \\times N}$\n",
    "\n",
    "We can expand this solution thinking that we can use 2 primes $P$ and $Q$, in this case, the multiplicity of $P$ and $Q$ must add any number that can be divided by $N$. So, all the previous solution still work, but we can also add all divisors that are of the form $PQ^{\\alpha N}$ with $0 \\leq \\alpha \\leq Q_i / N$, so now the sum of all the divisors is $S_{PQ} = (1 + Q^N  + Q^{2N}... + Q^{(Q_i // N) \\times N}) \\times S_P$.\n",
    "\n",
    "As you may notice, this is not complete, because other divisors that only include $P$ and $Q$ may satisfy $\\Omega(D)\\mod N \\equiv 0$, for example, $P^2Q^{N-2}$ and $P^{3N + 2}Q^{2N-2}$. These two cases are similar, because in both cases P adds $2 \\mod N$ to the $\\Omega$ function of the divisor.\n",
    "\n",
    "\n",
    "With that in mind, we can solve the problem by induction, lets say that we order all the primes, first we only use one prime to for every\n",
    "\n",
    "To solve this, we can use Dynamic Programing.\n",
    "\n"
   ]
  },
  {
   "cell_type": "code",
   "execution_count": 97,
   "id": "7bc3e3db-29cb-4c74-b0a0-faf55e055631",
   "metadata": {},
   "outputs": [],
   "source": [
    "from typing import List, Dict\n",
    "from collections import Counter\n",
    "from functools import cache\n"
   ]
  },
  {
   "cell_type": "code",
   "execution_count": 98,
   "id": "b11163fa-1b1f-4209-8c03-0121dca444cb",
   "metadata": {},
   "outputs": [],
   "source": [
    "def get_prime_factors(up_to: int) -> List[List[int]]:\n",
    "    prime_factors = [[] for _ in range(up_to + 1)]\n",
    "\n",
    "    for num in range(2, up_to + 1):\n",
    "        if not prime_factors[num]:\n",
    "            prime_factors[num] = [num]\n",
    "            for i in range(2, up_to // num + 1):\n",
    "                if not prime_factors[num * i]:\n",
    "                    prime_factors[num * i] = [num, i]\n",
    "    for num in range(2, up_to + 1):\n",
    "        prime_factors[num] = [\n",
    "            n\n",
    "            for factor in prime_factors[num]\n",
    "            for n in prime_factors[factor]\n",
    "        ]\n",
    "\n",
    "    return prime_factors"
   ]
  },
  {
   "cell_type": "code",
   "execution_count": 99,
   "id": "1da9a668-1287-4949-aa5d-019158186303",
   "metadata": {},
   "outputs": [],
   "source": [
    "def fast_exp(base: int, exp: int, module: int) -> int:\n",
    "    return pow(base, exp, module)\n"
   ]
  },
  {
   "cell_type": "code",
   "execution_count": 100,
   "id": "a46e2839-7143-461e-91a6-3f4dd0f72caa",
   "metadata": {},
   "outputs": [],
   "source": [
    "def get_sum_until(up_to: int) -> int:\n",
    "    return int((up_to * (up_to + 1)) / 2)"
   ]
  },
  {
   "cell_type": "code",
   "execution_count": 101,
   "id": "98530519-642c-4a50-80f2-94e40b8dff0a",
   "metadata": {},
   "outputs": [],
   "source": [
    "def prime_decomp_for_sdfact(n: int) -> Dict[int, int]:\n",
    "    decomp = Counter()\n",
    "    prime_factors = get_prime_factors(n)\n",
    "    compressed_factors = [Counter(factors) for factors in prime_factors]\n",
    "    for fact in range(2, n + 1):\n",
    "        # get the number of times that the fact is present in the sdfact\n",
    "        times_appeared = get_sum_until(n + 1 - fact)\n",
    "        for prime_factor, multi in compressed_factors[fact].items():\n",
    "            decomp[prime_factor] += multi * times_appeared\n",
    "    return decomp"
   ]
  },
  {
   "cell_type": "code",
   "execution_count": 102,
   "id": "f7651e45-482f-4608-9205-06d0696e775d",
   "metadata": {},
   "outputs": [],
   "source": [
    "@cache\n",
    "def smart_geometric_sum(prime: int, module: int, max_exp: int, max_value: int) -> int:\n",
    "    prime_pow_module = fast_exp(prime, module, max_value)\n",
    "    inv = pow(prime_pow_module -1, -1, max_value)\n",
    "    \n",
    "    return inv * (pow(prime_pow_module, max_exp + 1, max_value) - 1)\n",
    "    "
   ]
  },
  {
   "cell_type": "markdown",
   "id": "275ee82c-cccd-4a9c-8e6c-9f4574ff0e42",
   "metadata": {},
   "source": [
    "# Explanation of get_sum_of_prime_factor_options\n",
    "\n",
    "Note that the result is set in $\\bmod max\\_value$ (Different from module, module says the module of the exponent, and max_value is the mod from the result)\n",
    "\n",
    "We want to get the sum of all the options that can be written as $prime^n$ $\\equiv$ k $\\bmod$ module.\n",
    "\n",
    "This is equivalent to: $prime^k$ + $prime^{k + module}$ + $prime^{k + 2module}$... + $prime^{k + ((multiplicity - k) // module) \\times module}$\n",
    "\n",
    "Writing $t=((multiplicity - k) // module)$\n",
    "\n",
    "which is equivalent to: $prime^k \\times \\sum_{i=0}^{t} (prime^{module})^{i}$\n",
    "\n",
    "Writing $pm=prime^{module}$\n",
    "\n",
    "Equivalent to: $prime^k \\times \\frac{pm^{t + 1} - 1}{pm - 1}$\n",
    "\n",
    "This can be calculated with fast_exp in log(multiplicity) time\n",
    "\n",
    "**Note:** I failed with this approach, because i don't know how to get rid of the (pm - 1), and the division on mod aritmetic is weird.\n",
    "For this reason, I use a less optimum way, that make the $prime^k \\times \\sum_{i=0}^{t} (prime^{module})^{i}$, reusing the $\\sum_{i=0}^{t} (prime^{module})^{i}$ part which is the same for every k (t may have 2 different values depending on k).\n",
    "\n",
    "**Note of the note:** I can get rid of the pm - 1 calculating the inverse (inv) with the pow function, making the result as $prime^k \\times (pm^{t + 1} - 1)\\times inv$\n"
   ]
  },
  {
   "cell_type": "code",
   "execution_count": 95,
   "id": "cb52837e-f23b-4e33-ae28-695493a487cf",
   "metadata": {},
   "outputs": [],
   "source": [
    "def get_sum_of_prime_factor_options(prime: int, k: int, multiplicity: int, module: int, max_value: int) -> int:\n",
    "    t = (multiplicity - k) // module\n",
    "    return (fast_exp(prime, k, max_value) * smart_geometric_sum(prime, module, t, max_value)) % max_value\n",
    "    "
   ]
  },
  {
   "cell_type": "code",
   "execution_count": 83,
   "id": "40297c90-c66f-43f4-b258-e85417333ded",
   "metadata": {},
   "outputs": [],
   "source": [
    "def deprectaed_get_sum_of_prime_factor_options(prime: int, k: int, multiplicity: int, module: int, max_value: int ) -> int:\n",
    "    t = (multiplicity - k) // module\n",
    "    prime_pow_module = fast_exp(prime, module, max_value)\n",
    "    mult = ((fast_exp(prime, k, max_value)) * (fast_exp(prime_pow_module, t + 1, max_value) - 1))\n",
    "    inv = pow(prime_pow_module - 1, -1, max_value)\n",
    "    return (mult * inv) % max_value\n",
    "    "
   ]
  },
  {
   "cell_type": "code",
   "execution_count": 7,
   "id": "0e47a86e-da03-4d14-b841-5b3883a1928a",
   "metadata": {},
   "outputs": [],
   "source": [
    "def modular_subst(minuend: int, subtrahend: int, module: int) -> int:\n",
    "    if minuend >= subtrahend:\n",
    "        return minuend - subtrahend\n",
    "    return module - subtrahend + minuend"
   ]
  },
  {
   "cell_type": "code",
   "execution_count": 85,
   "id": "da107fe3-e23b-4046-9f91-46927073fba0",
   "metadata": {},
   "outputs": [],
   "source": [
    "def get_result(n: int, module: int) -> int:\n",
    "    prime_decomp = tuple(prime_decomp_for_sdfact(n).items())\n",
    "    # dp[i][j] represent the sum of all the options to sum j mod n using from the i-eth prime until the last\n",
    "    dp = [[0 for _ in range(n)] for _ in range(len(prime_decomp))]\n",
    "    max_previous_sum = 0\n",
    "    \n",
    "    for i in range(len(prime_decomp) - 1, -1, -1):\n",
    "        multiplicity = prime_decomp[i][1]\n",
    "        \n",
    "        for j in range(min(n, multiplicity + max_previous_sum + 1)):\n",
    "            \n",
    "            if i == len(prime_decomp) - 1:\n",
    "                dp[i][j] = get_sum_of_prime_factor_options_not_opt(prime_decomp[i][0], j, multiplicity, n, module)\n",
    "            else:\n",
    "                ij_sum = 0\n",
    "                for k in range(min(n, multiplicity + 1)):\n",
    "                    needed_next_i = modular_subst(j, k, n)\n",
    "                    if needed_next_i > max_previous_sum:\n",
    "                        continue\n",
    "                    \n",
    "                    ij_sum += (dp[i+1][needed_next_i] * get_sum_of_prime_factor_options_not_opt(prime_decomp[i][0], k, multiplicity, n, module)) % module\n",
    "                dp[i][j] = ij_sum % module\n",
    "                if i == 0 and j == 0:\n",
    "                    return dp[0][0]\n",
    "        max_previous_sum = j\n",
    "    return dp[0][0]"
   ]
  },
  {
   "cell_type": "code",
   "execution_count": 8,
   "id": "0ea0e3b2-3833-4817-8c4f-0ce8e9beae71",
   "metadata": {},
   "outputs": [
    {
     "data": {
      "text/plain": [
       "164920562"
      ]
     },
     "execution_count": 8,
     "metadata": {},
     "output_type": "execute_result"
    }
   ],
   "source": [
    "prime_decomp_for_sdfact(1000)[2]"
   ]
  },
  {
   "cell_type": "code",
   "execution_count": 30,
   "id": "06fc6ca5-2d05-43e2-993a-b2b88ee6a84b",
   "metadata": {},
   "outputs": [
    {
     "data": {
      "text/plain": [
       "273"
      ]
     },
     "execution_count": 30,
     "metadata": {},
     "output_type": "execute_result"
    }
   ],
   "source": [
    "get_sum_of_prime_factor_options_not_opt(2, 0, 8, 4, 999999001)"
   ]
  },
  {
   "cell_type": "code",
   "execution_count": 93,
   "id": "04608d00-1c54-4100-8e9f-e0ba85a0ce51",
   "metadata": {},
   "outputs": [
    {
     "name": "stdout",
     "output_type": "stream",
     "text": [
      "882086212\n",
      "Took 248.177640 seconds\n"
     ]
    }
   ],
   "source": [
    "ini = time()\n",
    "print(get_result(1000, 999999001))\n",
    "print(f'Took {time() - ini:2f} seconds')\n"
   ]
  },
  {
   "cell_type": "code",
   "execution_count": 96,
   "id": "c7a1d4fa-50c1-4422-9431-fee0b9a88c5a",
   "metadata": {},
   "outputs": [
    {
     "name": "stdout",
     "output_type": "stream",
     "text": [
      "882086212\n",
      "Took 248.743882 seconds\n"
     ]
    }
   ],
   "source": [
    "ini = time()\n",
    "print(get_result(1000, 999999001))\n",
    "print(f'Took {time() - ini:2f} seconds')"
   ]
  },
  {
   "cell_type": "code",
   "execution_count": 40,
   "id": "240a3e70-db62-431e-b26d-6c91a22abf25",
   "metadata": {},
   "outputs": [
    {
     "data": {
      "text/plain": [
       "81625078"
      ]
     },
     "execution_count": 40,
     "metadata": {},
     "output_type": "execute_result"
    }
   ],
   "source": [
    "6368195719791280 % 999999001"
   ]
  },
  {
   "cell_type": "code",
   "execution_count": 73,
   "id": "3e7aa2cf-a52c-4914-af76-7211175748be",
   "metadata": {},
   "outputs": [
    {
     "name": "stdout",
     "output_type": "stream",
     "text": [
      "851778183\n",
      "Took 0.000000 seconds\n"
     ]
    }
   ],
   "source": [
    "ini = time()\n",
    "print(fast_exp(2, 164920562, 999999001))\n",
    "print(f'Took {time() - ini:2f} seconds')"
   ]
  },
  {
   "cell_type": "code",
   "execution_count": null,
   "id": "9cafdb15-70d2-488b-b0e6-738fc98e9c47",
   "metadata": {},
   "outputs": [],
   "source": []
  }
 ],
 "metadata": {
  "kernelspec": {
   "display_name": "Python 3 (ipykernel)",
   "language": "python",
   "name": "python3"
  },
  "language_info": {
   "codemirror_mode": {
    "name": "ipython",
    "version": 3
   },
   "file_extension": ".py",
   "mimetype": "text/x-python",
   "name": "python",
   "nbconvert_exporter": "python",
   "pygments_lexer": "ipython3",
   "version": "3.11.3"
  }
 },
 "nbformat": 4,
 "nbformat_minor": 5
}
