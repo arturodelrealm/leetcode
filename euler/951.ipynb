{
 "cells": [
  {
   "cell_type": "markdown",
   "id": "d78fc264-ffec-412f-81ba-37cba96c0590",
   "metadata": {},
   "source": [
    "Problem https://projecteuler.net/problem=948"
   ]
  },
  {
   "cell_type": "markdown",
   "id": "83b66a73-7663-4b55-9e07-14696a67c038",
   "metadata": {},
   "source": [
    "# Main idea\n",
    "\n",
    "For a game to be fair, it must have at least one BB or NN where it has at most 2 consecutive Bs or Ns. \n",
    "\n",
    "So we need to calculate the number of words that are fair.\n",
    "\n",
    "This is easy to calculate with the compliment, words that don't have any run of exact 2 consecutive equal letters"
   ]
  },
  {
   "cell_type": "code",
   "execution_count": 10,
   "id": "8340ec8b-433e-40d3-a8d8-15a8a70cf26d",
   "metadata": {},
   "outputs": [],
   "source": [
    "import random\n",
    "\n",
    "\n",
    "def simulate_game(word):\n",
    "    last = None\n",
    "    turn = 0\n",
    "    times = 0\n",
    "    last_picker = None\n",
    "    for letter in word:\n",
    "        if times == 0:\n",
    "            last_picker = turn\n",
    "            last = letter\n",
    "            times += 1\n",
    "        else:\n",
    "            if last == letter and random.random() >= 0.5:\n",
    "                last_picker = turn\n",
    "                times = 0\n",
    "            else:\n",
    "                last = letter\n",
    "                last_picker = (turn + 1) % 2 \n",
    "            turn = (turn + 1) % 2\n",
    "    return last_picker\n",
    "\n",
    "\n",
    "def simulate(word: str, n_s=10000) -> float:\n",
    "    return sum(simulate_game(word) for _ in range(n_s)) / n_s"
   ]
  },
  {
   "cell_type": "code",
   "execution_count": 90,
   "id": "fcecdeb2-e77c-461d-9dd3-761507eed3b2",
   "metadata": {},
   "outputs": [
    {
     "data": {
      "text/plain": [
       "0.5005"
      ]
     },
     "execution_count": 90,
     "metadata": {},
     "output_type": "execute_result"
    }
   ],
   "source": [
    "simulate('BBBNBBBBBBNN')"
   ]
  },
  {
   "cell_type": "code",
   "execution_count": 85,
   "id": "978ddef0-ef66-47fc-8a2b-08a4604a7534",
   "metadata": {},
   "outputs": [
    {
     "name": "stdout",
     "output_type": "stream",
     "text": [
      "4 4\n",
      "6 16\n",
      "8 54\n",
      "10 206\n",
      "12 804\n",
      "14 3098\n",
      "16 11892\n",
      "18 45746\n",
      "20 176338\n"
     ]
    }
   ],
   "source": [
    "from math import comb\n",
    "\n",
    "def a_h_k(h, k):\n",
    "    if k <= 0:\n",
    "        return 1 if (k == 0 and h == 0) else 0\n",
    "    total = 0\n",
    "    if k == h:\n",
    "        total += 1\n",
    "    maxr = min(k, (h - k) // 2) if h - k >= 0 else -1\n",
    "    for r in range(1, maxr + 1):\n",
    "        S = h - k - 2 * r  \n",
    "        total += comb(k, r) * comb(S + r - 1, r - 1)\n",
    "    return total\n",
    "\n",
    "def count_valid(N):\n",
    "    if N % 2 != 0:\n",
    "        raise ValueError(\"N debe ser par\")\n",
    "    h = N // 2\n",
    "    A = 0\n",
    "    for k in range(1, h + 1):\n",
    "        ak = a_h_k(h, k)\n",
    "        akm1 = a_h_k(h, k - 1) if k - 1 >= 1 else (1 if (k - 1) == h else 0)\n",
    "        A += ak * ak + ak * akm1\n",
    "    A *= 2\n",
    "    total = comb(N, h)\n",
    "    return total - A\n"
   ]
  },
  {
   "cell_type": "code",
   "execution_count": 87,
   "id": "18194ed8-fbfd-450d-952d-45d96c7a9759",
   "metadata": {},
   "outputs": [
    {
     "data": {
      "text/plain": [
       "368861487088895934199253444041156058196991860"
      ]
     },
     "execution_count": 87,
     "metadata": {},
     "output_type": "execute_result"
    }
   ],
   "source": [
    "count_valid(152)"
   ]
  },
  {
   "cell_type": "code",
   "execution_count": null,
   "id": "23817a9a-0399-42a1-a3da-faccd0dd94b4",
   "metadata": {},
   "outputs": [],
   "source": []
  }
 ],
 "metadata": {
  "kernelspec": {
   "display_name": "Python 3 (ipykernel)",
   "language": "python",
   "name": "python3"
  },
  "language_info": {
   "codemirror_mode": {
    "name": "ipython",
    "version": 3
   },
   "file_extension": ".py",
   "mimetype": "text/x-python",
   "name": "python",
   "nbconvert_exporter": "python",
   "pygments_lexer": "ipython3",
   "version": "3.11.3"
  }
 },
 "nbformat": 4,
 "nbformat_minor": 5
}
