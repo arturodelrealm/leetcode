{
 "cells": [
  {
   "cell_type": "markdown",
   "id": "f196e053-8252-4270-a362-ab6621cfb3fd",
   "metadata": {},
   "source": [
    "Problem https://projecteuler.net/problem=581"
   ]
  },
  {
   "cell_type": "markdown",
   "id": "14e34d30-48a4-44fa-99d6-5cab6065df54",
   "metadata": {},
   "source": [
    "# Main idea\n",
    "\n",
    "This problem can surely be solved with combinatory counting, but meh.\n",
    "\n",
    "My approach is to generate all the combinations based on the first position of each digit (0, 1, A), called Pos_0, Pos_a, Pos_1.\n",
    "\n",
    "For a number of length $L$, this will take $(L-1) \\cdot (L-1) \\cdot (L-2)$ iterations, because 0 can not be the first digit of a number.\n",
    "\n",
    "For each of this combinations, we have $L-3$ free variables which can take any value (16 each). As I define the positions to be the first appearance of the digit in the number, some free variables can take less values if the possition of the free variable is less than any Pos_0, Pos_a or Pos_1. So for each tuple (Pos_0, Pos_a, Pos_1) we have that there are $\\prod_{1}^{L-3}|free\\_variable_i|$ being $|free\\_variable_i|$ the number of free variables on the position i\n",
    "\n",
    "For example, if I define that Pos_0 = 2, Pos_a = 3, Pos_1 = 5, then at position 1 there are only 13 options for the free variable, but for positions 6 to 16 there are 16 options."
   ]
  },
  {
   "cell_type": "code",
   "execution_count": 15,
   "id": "efeb6734-301b-499d-ba8d-6526d12a2097",
   "metadata": {},
   "outputs": [],
   "source": [
    "from math import prod"
   ]
  },
  {
   "cell_type": "code",
   "execution_count": 12,
   "id": "2ff171e3-bbbe-4e47-8bc0-305c08c976d2",
   "metadata": {},
   "outputs": [],
   "source": [
    "def number_to_hex(number: int) -> str:\n",
    "    # hex could solve this, but I needed to remeber how to do this \"manually\"\n",
    "    response = []\n",
    "    while number:\n",
    "        response.append(number % 16)\n",
    "        number //= 16\n",
    "    return ''.join(str(c) if c < 10 else chr(c + 55) for c in response[::-1])"
   ]
  },
  {
   "cell_type": "code",
   "execution_count": 11,
   "id": "2ae0c247-7036-4b6a-9f9d-dc5cace69ba5",
   "metadata": {},
   "outputs": [
    {
     "data": {
      "text/plain": [
       "'3D58725572C62302'"
      ]
     },
     "execution_count": 11,
     "metadata": {},
     "output_type": "execute_result"
    }
   ],
   "source": [
    "total_words = 0\n",
    "for w_length in range(3, 17):\n",
    "    for pos_0 in range(1, w_length):  # 0 can not be the first char\n",
    "        for pos_1 in range(w_length):\n",
    "            if pos_0 == pos_1: continue\n",
    "            for pos_a in range(w_length):\n",
    "                if pos_a == pos_1 or pos_a == pos_0: continue\n",
    "                mults = []\n",
    "                fixed_positions = (pos_0, pos_1, pos_a)\n",
    "                for pos in range(w_length):\n",
    "                    mult = 16\n",
    "                    if pos in fixed_positions:\n",
    "                        continue\n",
    "                    for char_pos in fixed_positions:\n",
    "                        if pos < char_pos:\n",
    "                            mult -= 1\n",
    "                    mults.append(mult)\n",
    "                total_words += prod(mults)\n",
    "number_to_hex(total_words)"
   ]
  },
  {
   "cell_type": "code",
   "execution_count": null,
   "id": "d39f15fd-ab9a-499a-94ae-bc53215d648e",
   "metadata": {},
   "outputs": [],
   "source": []
  }
 ],
 "metadata": {
  "kernelspec": {
   "display_name": "Python 3 (ipykernel)",
   "language": "python",
   "name": "python3"
  },
  "language_info": {
   "codemirror_mode": {
    "name": "ipython",
    "version": 3
   },
   "file_extension": ".py",
   "mimetype": "text/x-python",
   "name": "python",
   "nbconvert_exporter": "python",
   "pygments_lexer": "ipython3",
   "version": "3.11.3"
  }
 },
 "nbformat": 4,
 "nbformat_minor": 5
}
