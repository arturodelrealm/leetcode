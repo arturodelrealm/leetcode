{
 "cells": [
  {
   "cell_type": "code",
   "execution_count": 1,
   "id": "2321bc1d-8b1f-4e48-9fd5-21dbaf395e0b",
   "metadata": {},
   "outputs": [],
   "source": [
    "def get_primes_up_to(n: int):\n",
    "    seen = set()\n",
    "    primes = []\n",
    "    for e in range(2, n + 1):\n",
    "        if e not in seen:\n",
    "            primes.append(e)\n",
    "            seen.update(i * e for i in range(1, n // e + 1))\n",
    "    return primes"
   ]
  },
  {
   "cell_type": "code",
   "execution_count": 2,
   "id": "641e893d-5bd6-452d-9ef8-53cc51cd0137",
   "metadata": {},
   "outputs": [],
   "source": [
    "N = 999966663333"
   ]
  },
  {
   "cell_type": "code",
   "execution_count": 4,
   "id": "29d307b6-08b5-45a7-832b-c2ce0a8ccc55",
   "metadata": {},
   "outputs": [],
   "source": [
    "primes = get_primes_up_to(int(N ** 0.5) + 1000)"
   ]
  },
  {
   "cell_type": "code",
   "execution_count": 62,
   "id": "991c1fa2-a7ef-40c6-a182-209c274c173b",
   "metadata": {},
   "outputs": [],
   "source": [
    "def get_sum_up_to(n: int, primes = None):\n",
    "    primes = primes or get_primes_up_to(int(n ** 0.5) + 1000) # Hope that this 1000 get another prime number\n",
    "    current_sum = 0\n",
    "    for prime_1, prime_2 in zip(primes, primes[1:]):\n",
    "        limits = [prime_1 ** 2, prime_2 ** 2]\n",
    "        # manage case of numbers above N \n",
    "        limits[1] = min(limits[1], n)\n",
    "        difference = limits[1] - limits[0]\n",
    "        times_prime_1 = difference // prime_1\n",
    "\n",
    "        first_mul_prime_2 = (limits[0] // prime_2) * prime_2  # this number doesn't sum, neither the limits[0]\n",
    "        times_prime_2 = (limits[1] - first_mul_prime_2) // prime_2\n",
    "        if prime_2 ** 2 == limits[1]:\n",
    "            # In this case we don't want to include this number, because the prime_2^2 is not a semi divisible number\n",
    "            times_prime_2 -= 1\n",
    "\n",
    "        current_sum += times_prime_1 * limits[0] + prime_1 * (times_prime_1)*(times_prime_1 + 1) // 2\n",
    "        \n",
    "        current_sum += times_prime_2 * first_mul_prime_2 + prime_2 * (times_prime_2)*(times_prime_2 + 1) // 2\n",
    "\n",
    "        first_equiv = prime_1 * prime_2\n",
    "        if first_equiv <= limits[1]:\n",
    "            times_both_mult = (limits[1] - first_equiv) // (prime_1 * prime_2)\n",
    "            assert times_both_mult == 0   \n",
    "            current_sum -= 2 * first_equiv\n",
    "        \n",
    "        if limits[1] == n:\n",
    "            return current_sum\n",
    "            \n",
    "    return current_sum\n",
    "        "
   ]
  },
  {
   "cell_type": "code",
   "execution_count": 63,
   "id": "0db664e6-1213-40b0-936c-242d003f30d2",
   "metadata": {},
   "outputs": [
    {
     "data": {
      "text/plain": [
       "1259187438574927161"
      ]
     },
     "execution_count": 63,
     "metadata": {},
     "output_type": "execute_result"
    }
   ],
   "source": [
    "get_sum_up_to(N)"
   ]
  },
  {
   "cell_type": "code",
   "execution_count": null,
   "id": "a1d7ff9c-8603-45d5-95f7-7222d0f1e0f8",
   "metadata": {},
   "outputs": [],
   "source": []
  }
 ],
 "metadata": {
  "kernelspec": {
   "display_name": "Python 3 (ipykernel)",
   "language": "python",
   "name": "python3"
  },
  "language_info": {
   "codemirror_mode": {
    "name": "ipython",
    "version": 3
   },
   "file_extension": ".py",
   "mimetype": "text/x-python",
   "name": "python",
   "nbconvert_exporter": "python",
   "pygments_lexer": "ipython3",
   "version": "3.11.3"
  }
 },
 "nbformat": 4,
 "nbformat_minor": 5
}
