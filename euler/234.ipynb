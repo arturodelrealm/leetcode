{
 "cells": [
  {
   "cell_type": "markdown",
   "id": "89d53d42-334d-4f39-8393-232014f78d80",
   "metadata": {},
   "source": [
    "Problem https://projecteuler.net/problem=234\n"
   ]
  },
  {
   "cell_type": "markdown",
   "id": "c04d0b4d-88f7-4d62-9805-0838546844ef",
   "metadata": {},
   "source": [
    "# Main idea\n",
    "\n",
    "We can order the prime numbers from $2, 3, 5, 7, ... p_n, p_{n+1}$ where $p_n$ is the $lps(N)$ and $p_{n+1}$ is the $ups(N)$.\n",
    "\n",
    "By doing this, we can now set that being $p_i, p_{i+1}$ consecutive primes, all the numbers $n$ in the range $(p_i^2, p_{i+1}^2)$ will have $lps(n) = p_i, ups(n) = p_{i+1}$ (because the quadratic function is strictly increasing).\n",
    "\n",
    "So now we have to know how many divisors are of the 2 primes in the range $(p_i^2, p_{i+1}^2)$. This is easy to calculate with $\\frac{p_{i+1}^2 - p_{i}^2}{p}$ with $p ∈ (p_i, p_{i+1})$. \n",
    "\n",
    "Now, obtain the divisors is easy because the sum of all the multiples of $p_i$ looks like (similar case with $p_{i+1}$): $(p_i^2 + p_i) + (p_i^2 + 2p_i) + ... + (p_i^2 + p_i' p_i)$, being $p_i' = \\frac{p_{i+1}^2 - p_{i}^2}{p_i}$.\n",
    "\n",
    "This can be calculated with $Sp_i = p_i'\\cdot p_i^2 + \\sum_{j=1}^{p_i'}j\\cdot p_i$. \n",
    "\n",
    "$Sp_i = p_i'\\cdot p_i^2 + \\frac{(p_i')\\cdot(p_i' + 1)}{2}\\cdot p_i$\n",
    "\n",
    "We can do something similar with $p_{i + 1}$ (a little bit different, but the same idea).\n",
    "\n",
    "We need to eliminate the numbers that are divisible from both $p_i$ and $p_{i+1}$, which will always be $p_i\\cdot p_{i+1}$.\n",
    "\n",
    "Also we have the border case when the limit $N$ is inside the range, this change a little bit the work, but the idea is the same.\n",
    "\n",
    "If we do this with all pairs of consecutive primes, we have our result :)\n",
    "\n"
   ]
  },
  {
   "cell_type": "code",
   "execution_count": 88,
   "id": "2321bc1d-8b1f-4e48-9fd5-21dbaf395e0b",
   "metadata": {},
   "outputs": [],
   "source": [
    "def get_primes_up_to(n: int):\n",
    "    seen = set()\n",
    "    primes = []\n",
    "    for e in range(2, n + 1):\n",
    "        if e not in seen:\n",
    "            primes.append(e)\n",
    "            seen.update(i * e for i in range(1, n // e + 1))\n",
    "    return primes"
   ]
  },
  {
   "cell_type": "code",
   "execution_count": 2,
   "id": "641e893d-5bd6-452d-9ef8-53cc51cd0137",
   "metadata": {},
   "outputs": [],
   "source": [
    "N = 999966663333"
   ]
  },
  {
   "cell_type": "code",
   "execution_count": 62,
   "id": "991c1fa2-a7ef-40c6-a182-209c274c173b",
   "metadata": {},
   "outputs": [],
   "source": [
    "def get_sum_up_to(n: int, primes = None):\n",
    "    primes = primes or get_primes_up_to(int(n ** 0.5) + 1000) # Hope that this 1000 get another prime number\n",
    "    current_sum = 0\n",
    "    for prime_1, prime_2 in zip(primes, primes[1:]):\n",
    "        limits = [prime_1 ** 2, prime_2 ** 2]\n",
    "        # manage case of numbers above N \n",
    "        limits[1] = min(limits[1], n)\n",
    "        difference = limits[1] - limits[0]\n",
    "        times_prime_1 = difference // prime_1\n",
    "\n",
    "        first_mul_prime_2 = (limits[0] // prime_2) * prime_2  # this number doesn't sum, neither the limits[0]\n",
    "        times_prime_2 = (limits[1] - first_mul_prime_2) // prime_2\n",
    "        if prime_2 ** 2 == limits[1]:\n",
    "            # In this case we don't want to include this number, because the prime_2^2 is not a semi divisible number\n",
    "            times_prime_2 -= 1\n",
    "\n",
    "        current_sum += times_prime_1 * limits[0] + prime_1 * (times_prime_1)*(times_prime_1 + 1) // 2\n",
    "        \n",
    "        current_sum += times_prime_2 * first_mul_prime_2 + prime_2 * (times_prime_2)*(times_prime_2 + 1) // 2\n",
    "\n",
    "        first_equiv = prime_1 * prime_2\n",
    "        if first_equiv <= limits[1]:\n",
    "            times_both_mult = (limits[1] - first_equiv) // (prime_1 * prime_2)\n",
    "            assert times_both_mult == 0   \n",
    "            current_sum -= 2 * first_equiv\n",
    "        \n",
    "        if limits[1] == n:\n",
    "            return current_sum\n",
    "            \n",
    "    return current_sum\n",
    "        "
   ]
  },
  {
   "cell_type": "code",
   "execution_count": 86,
   "id": "0db664e6-1213-40b0-936c-242d003f30d2",
   "metadata": {},
   "outputs": [
    {
     "data": {
      "text/plain": [
       "1259187438574927161"
      ]
     },
     "execution_count": 86,
     "metadata": {},
     "output_type": "execute_result"
    }
   ],
   "source": [
    "get_sum_up_to(N)"
   ]
  },
  {
   "cell_type": "markdown",
   "id": "27f1087b-523a-4fd5-9f81-6d3107ba46e0",
   "metadata": {},
   "source": [
    "# Testing a naive solution from the forum\n",
    "\n",
    "I thought that this solution would take more time, but it is pretty fast (of course, less than the other one)"
   ]
  },
  {
   "cell_type": "code",
   "execution_count": 70,
   "id": "e9b0ee85-2218-4458-881a-6a359cfa3752",
   "metadata": {},
   "outputs": [
    {
     "name": "stdout",
     "output_type": "stream",
     "text": [
      "1259187438574927161\n"
     ]
    }
   ],
   "source": [
    "\n",
    "N = 999966663333\n",
    "sol = 0\n",
    "i = 0\n",
    "while primes[i]*primes[i] < N:\n",
    "\tp = primes[i]\n",
    "\tq = primes[i+1]\n",
    "\tx = p*p+p\n",
    "\twhile x < q*q and x < N:\n",
    "\t\tif x % q != 0:\n",
    "\t\t\tsol = sol + x\n",
    "\t\tx = x + p\n",
    "\tx = int(((p*p+q-1)//q)*q)\n",
    "\twhile x < q*q and x < N:\n",
    "\t\tif x % p != 0:\n",
    "\t\t\tsol = sol + x\n",
    "\t\tx = x + q\n",
    "\ti = i + 1\n",
    "print(sol)"
   ]
  },
  {
   "cell_type": "code",
   "execution_count": null,
   "id": "bec56239-eaf4-4fe7-93f7-768651e2d5be",
   "metadata": {},
   "outputs": [],
   "source": []
  }
 ],
 "metadata": {
  "kernelspec": {
   "display_name": "Python 3 (ipykernel)",
   "language": "python",
   "name": "python3"
  },
  "language_info": {
   "codemirror_mode": {
    "name": "ipython",
    "version": 3
   },
   "file_extension": ".py",
   "mimetype": "text/x-python",
   "name": "python",
   "nbconvert_exporter": "python",
   "pygments_lexer": "ipython3",
   "version": "3.11.3"
  }
 },
 "nbformat": 4,
 "nbformat_minor": 5
}
