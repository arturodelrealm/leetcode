{
 "cells": [
  {
   "cell_type": "markdown",
   "id": "d50f5a17-5c9d-415c-8775-275083823a66",
   "metadata": {},
   "source": [
    "Problem https://projecteuler.net/problem=581"
   ]
  },
  {
   "cell_type": "markdown",
   "id": "c32c6d32-10b1-4706-85e5-89ade8a082ee",
   "metadata": {},
   "source": [
    "# Main idea\n",
    "\n",
    "By the Stormer's theorem we can check that a finite consecutive p-smooth numbers exists.\n",
    "\n",
    "A triangular number $T(N) = \\frac{N\\cdot (N+1)}{2}$ is P-smooth iff $N$ and $N+1$ are P-smooth, so as we know that there exists a finite consecutive p-smooth numbers, the problem is easy to solve, generating all the P-smooth numbers, sort them in a queue and check if there are consecutive numbers in the queue.\n",
    "\n",
    "As a helper, we use MAX_SMOOTH_CONSECUTIVE_PRIME_N from https://oeis.org/A117581 (add 10 to avoid border case problems)\n",
    "\n",
    "**Note:** I didn't knew about this theorem, and I can't demonstrate it, I just use its results :("
   ]
  },
  {
   "cell_type": "code",
   "execution_count": 1,
   "id": "3cffa8e8-5c5d-41fb-bb6c-78104b293c06",
   "metadata": {},
   "outputs": [],
   "source": [
    "from utils import get_primes_up_to"
   ]
  },
  {
   "cell_type": "code",
   "execution_count": 2,
   "id": "fd7636c8-c700-436e-9133-c43df5d50c49",
   "metadata": {},
   "outputs": [],
   "source": [
    "import heapq"
   ]
  },
  {
   "cell_type": "code",
   "execution_count": 3,
   "id": "502ccc0a-04a8-47c9-8eed-2a98f05897b9",
   "metadata": {},
   "outputs": [],
   "source": [
    "smooth_primes = get_primes_up_to(47)"
   ]
  },
  {
   "cell_type": "code",
   "execution_count": 4,
   "id": "d497ff2c-1a63-4658-bf93-33e2228c6e21",
   "metadata": {},
   "outputs": [],
   "source": [
    "MAX_SMOOTH_CONSECUTIVE_PRIME_N = 1109496723136  # https://oeis.org/A117581"
   ]
  },
  {
   "cell_type": "code",
   "execution_count": 18,
   "id": "a8e101f3-33e4-46d7-9c8e-3d1052956742",
   "metadata": {},
   "outputs": [
    {
     "name": "stdout",
     "output_type": "stream",
     "text": [
      "2227616372734 1502 9504208\n"
     ]
    }
   ],
   "source": [
    "smooth_numbers = [(prime, i) for i, prime in enumerate(smooth_primes)]\n",
    "heapq.heapify(smooth_numbers)\n",
    "previous_smooth = 1\n",
    "continuous_smooths = []\n",
    "total_smooth = 1\n",
    "while smooth_numbers:\n",
    "    smallest, index = heapq.heappop(smooth_numbers)\n",
    "    if smallest - 1 == previous_smooth:\n",
    "        continuous_smooths.append(previous_smooth)\n",
    "    previous_smooth = smallest\n",
    "    for prime_i in range(index, len(smooth_primes)):\n",
    "        prime = smooth_primes[prime_i]\n",
    "        new_smooth = smallest * prime\n",
    "        if new_smooth > MAX_SMOOTH_CONSECUTIVE_PRIME_N:\n",
    "            break\n",
    "        heapq.heappush(smooth_numbers, (new_smooth, prime_i))\n",
    "        total_smooth += 1\n",
    "print(sum(continuous_smooths), len(continuous_smooths), total_smooth)"
   ]
  },
  {
   "cell_type": "code",
   "execution_count": null,
   "id": "1a2f815c-e81d-438a-9132-460463510d3a",
   "metadata": {},
   "outputs": [],
   "source": []
  }
 ],
 "metadata": {
  "kernelspec": {
   "display_name": "Python 3 (ipykernel)",
   "language": "python",
   "name": "python3"
  },
  "language_info": {
   "codemirror_mode": {
    "name": "ipython",
    "version": 3
   },
   "file_extension": ".py",
   "mimetype": "text/x-python",
   "name": "python",
   "nbconvert_exporter": "python",
   "pygments_lexer": "ipython3",
   "version": "3.11.3"
  }
 },
 "nbformat": 4,
 "nbformat_minor": 5
}
