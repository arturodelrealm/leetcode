{
 "cells": [
  {
   "cell_type": "markdown",
   "id": "924fa293-c4d8-4ce0-b070-e00e4000c8b2",
   "metadata": {},
   "source": [
    "Problem https://projecteuler.net/problem=954"
   ]
  },
  {
   "cell_type": "markdown",
   "id": "3da4558c-13bf-4b5c-9787-49f08a1ac18d",
   "metadata": {},
   "source": [
    "# Main idea\n",
    "\n",
    "Generate states for each number, the states can construct a following state adding a new number to the left.\n",
    "\n",
    "For each number we store the module, the digits and its multipliers ($10^n mod 7$) in module 7 and also the possible results of the modulo 7 after one permutation of digits.\n",
    "\n",
    "The 0 thing complicate a little bit the things, but with some extra variables it is possible.\n",
    "\n",
    "The states doesn't improve much, because there are a lot of states, so my solution is very slow.\n",
    "\n"
   ]
  },
  {
   "cell_type": "code",
   "execution_count": 1,
   "id": "95681c96-c409-42e6-8148-5ba25fe9e6d2",
   "metadata": {},
   "outputs": [],
   "source": [
    "def get_complete_state(new_digit: int):\n",
    "    \"\"\"Return a state that joins all the completed numbers\"\"\"\n",
    "    return (\n",
    "            0,\n",
    "            tuple(range(7)),\n",
    "            (),\n",
    "            new_digit == 0,\n",
    "            (),\n",
    "            (),\n",
    "        )\n",
    "\n",
    "def transform_state(state, new_digit, coef):\n",
    "    if len(state[1]) == 7:\n",
    "        # This case will allow any new number and will avoid generating different states\n",
    "        return get_complete_state(new_digit)\n",
    "    add_to_mod = (coef * new_digit) % 7\n",
    "    number_mod_7 = (state[0] + add_to_mod) % 7\n",
    "\n",
    "    values_after_one_swap = {\n",
    "        *((x + add_to_mod) % 7 for x in state[1]),\n",
    "        *((x + add_to_mod) % 7 for x in state[2])\n",
    "    } # add the new digit to the options after swapping another 2 digits. Now we can use swaps that previosuly resulted in trailing 0\n",
    "    for digit, coef_1 in state[4]:\n",
    "        if new_digit != digit and coef != coef_1:\n",
    "            values_after_one_swap.add((number_mod_7 - (new_digit - digit) * (coef - coef_1)) % 7)\n",
    "\n",
    "    values_with_swaps_with_0 = set()\n",
    "    for digit, coef_1 in state[5]:\n",
    "        # Maybe improve this code to avoid duplicates, but is a small improve\n",
    "        values_with_swaps_with_0.add((number_mod_7 - (new_digit - digit) * (coef - coef_1)) % 7)\n",
    "    options_to_move = state[4]\n",
    "    options_to_move_with_0 = state[5]\n",
    "    \n",
    "    if new_digit == 0:\n",
    "        options_to_move_with_0 = tuple(sorted({(0, coef), *options_to_move_with_0}))\n",
    "    else:\n",
    "        options_to_move = tuple(sorted({(new_digit % 7, coef), *options_to_move}))\n",
    "    if len(values_after_one_swap) == 7:\n",
    "        return get_complete_state(new_digit)\n",
    "    return (\n",
    "        number_mod_7,\n",
    "        tuple(sorted(values_after_one_swap)),\n",
    "        tuple(sorted(values_with_swaps_with_0)),\n",
    "        new_digit == 0,\n",
    "        options_to_move,\n",
    "        options_to_move_with_0\n",
    "    )\n",
    "    "
   ]
  },
  {
   "cell_type": "code",
   "execution_count": null,
   "id": "4c88da50-3233-4313-8e30-e3497876ea11",
   "metadata": {},
   "outputs": [
    {
     "name": "stdout",
     "output_type": "stream",
     "text": [
      "1: 74 with 64 states\n",
      "2: 573 with 512 states\n",
      "3: 3737 with 4096 states\n",
      "4: 20714 with 27148 states\n",
      "5: 96202 with 123558 states\n",
      "6: 423191 with 426538 states\n"
     ]
    }
   ],
   "source": [
    "%%prun -s cumulative\n",
    "\n",
    "from collections import Counter\n",
    "\n",
    "\n",
    "states = {\n",
    "    (\n",
    "        e % 7, # number mod 7\n",
    "        (e % 7,), # possible values with 1 swap\n",
    "        (), # possible values with swapping 0 at the first element\n",
    "        e == 0, # has trailing 0\n",
    "        ((e % 7, 1),) if e else (), # (options_to_move in the form: (digit, 10^n mod 7))\n",
    "        () if e else ((0, 1),),\n",
    "    ): 1 if e <= 7 else 2\n",
    "    for e in range(10)\n",
    "}\n",
    "\n",
    "heptaphobics = 8\n",
    "for n in range(1, 13):\n",
    "    coef = (10 ** n) % 7\n",
    "    new_states = Counter()\n",
    "    for new_digit in range(8):\n",
    "        mult = 1 if new_digit not in (1, 2) else 2\n",
    "        for state, count in states.items():\n",
    "            new_states[transform_state(state, new_digit, coef)] += count * mult\n",
    "    heptaphobics += sum(count for state, count in new_states.items() if 0 != state[1][0] and not state[3])\n",
    "    states = new_states\n",
    "    print(f'{n}: {heptaphobics} with {len(states)} states')\n",
    "\n",
    "    "
   ]
  },
  {
   "cell_type": "code",
   "execution_count": null,
   "id": "69a22fee-3a14-47ec-a7e5-560e06444139",
   "metadata": {},
   "outputs": [],
   "source": []
  }
 ],
 "metadata": {
  "kernelspec": {
   "display_name": "Python 3 (ipykernel)",
   "language": "python",
   "name": "python3"
  },
  "language_info": {
   "codemirror_mode": {
    "name": "ipython",
    "version": 3
   },
   "file_extension": ".py",
   "mimetype": "text/x-python",
   "name": "python",
   "nbconvert_exporter": "python",
   "pygments_lexer": "ipython3",
   "version": "3.11.3"
  }
 },
 "nbformat": 4,
 "nbformat_minor": 5
}
