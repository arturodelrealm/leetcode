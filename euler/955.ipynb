{
 "cells": [
  {
   "cell_type": "markdown",
   "id": "f7312d2d-29a2-49e4-8cee-5b50a5048392",
   "metadata": {},
   "source": [
    "Problem https://projecteuler.net/problem=955"
   ]
  },
  {
   "cell_type": "code",
   "execution_count": 78,
   "id": "9a0761bd-ad70-49e0-8d14-61ad031d8cde",
   "metadata": {},
   "outputs": [],
   "source": [
    "from math import isqrt, floor, prod, sqrt"
   ]
  },
  {
   "cell_type": "code",
   "execution_count": 223,
   "id": "c6de870e-c588-426f-b008-c1d1a4200bf2",
   "metadata": {},
   "outputs": [],
   "source": [
    "from sympy import divisors\n",
    "from math import prod\n",
    "\n",
    "def find_min_step_fact(n):\n",
    "    M = 4*n*(n+1)\n",
    "    _divisors = divisors(M)\n",
    "\n",
    "    candidates = []\n",
    "    for u in _divisors:\n",
    "        v = M // u\n",
    "        if u >= v or (v - u) % 4 != 2:\n",
    "            continue\n",
    "        k = (v - u - 2) // 4\n",
    "        i = n - u//2\n",
    "\n",
    "        candidates.append((k, i))\n",
    "\n",
    "    if not candidates:\n",
    "        return None\n",
    "\n",
    "    # El menor par (k,i) por k, luego i\n",
    "    return min(candidates, key=lambda x: (x[0], x[1]) if x[0] > 0 else (float('inf'), 1))[0]"
   ]
  },
  {
   "cell_type": "code",
   "execution_count": 224,
   "id": "c29b4b00-0422-48f9-a525-3f8b14850d5b",
   "metadata": {},
   "outputs": [],
   "source": [
    "steps = []\n",
    "current_a_n = 3\n",
    "while len(steps) < 80:\n",
    "    step = find_min_step_fact(isqrt(2*current_a_n))\n",
    "    current_a_n += (step * (step + 1)) // 2\n",
    "    steps.append(step)"
   ]
  },
  {
   "cell_type": "code",
   "execution_count": 226,
   "id": "74ec08f1-e278-49e0-a864-78e4b554a995",
   "metadata": {},
   "outputs": [
    {
     "data": {
      "text/plain": [
       "6795261671274"
      ]
     },
     "execution_count": 226,
     "metadata": {},
     "output_type": "execute_result"
    }
   ],
   "source": [
    "sum(steps[:69])"
   ]
  },
  {
   "cell_type": "code",
   "execution_count": null,
   "id": "6bbe39fc-ea41-4135-ad78-f04f59423554",
   "metadata": {},
   "outputs": [],
   "source": []
  }
 ],
 "metadata": {
  "kernelspec": {
   "display_name": "Python 3 (ipykernel)",
   "language": "python",
   "name": "python3"
  },
  "language_info": {
   "codemirror_mode": {
    "name": "ipython",
    "version": 3
   },
   "file_extension": ".py",
   "mimetype": "text/x-python",
   "name": "python",
   "nbconvert_exporter": "python",
   "pygments_lexer": "ipython3",
   "version": "3.11.3"
  }
 },
 "nbformat": 4,
 "nbformat_minor": 5
}
